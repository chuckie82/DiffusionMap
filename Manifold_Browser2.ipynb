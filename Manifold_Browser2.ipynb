{
 "cells": [
  {
   "cell_type": "code",
   "execution_count": 1,
   "metadata": {},
   "outputs": [
    {
     "data": {
      "text/html": [
       "<style>div.container { width: 90% }</style>"
      ],
      "text/plain": [
       "<IPython.core.display.HTML object>"
      ]
     },
     "metadata": {},
     "output_type": "execute_result"
    },
    {
     "data": {},
     "metadata": {},
     "output_type": "display_data"
    },
    {
     "data": {
      "text/html": [
       "\n",
       "<link rel=\"stylesheet\" href=\"https://code.jquery.com/ui/1.10.4/themes/smoothness/jquery-ui.css\">\n",
       "<style>div.hololayout {\n",
       "  display: flex;\n",
       "  align-items: center;\n",
       "  margin: 0;\n",
       "}\n",
       "\n",
       "div.holoframe {\n",
       "  width: 75%;\n",
       "}\n",
       "\n",
       "div.holowell {\n",
       "  display: flex;\n",
       "  align-items: center;\n",
       "}\n",
       "\n",
       "form.holoform {\n",
       "  background-color: #fafafa;\n",
       "  border-radius: 5px;\n",
       "  overflow: hidden;\n",
       "  padding-left: 0.8em;\n",
       "  padding-right: 0.8em;\n",
       "  padding-top: 0.4em;\n",
       "  padding-bottom: 0.4em;\n",
       "  box-shadow: inset 0 1px 1px rgba(0, 0, 0, 0.05);\n",
       "  margin-bottom: 20px;\n",
       "  border: 1px solid #e3e3e3;\n",
       "}\n",
       "\n",
       "div.holowidgets {\n",
       "  padding-right: 0;\n",
       "  width: 25%;\n",
       "}\n",
       "\n",
       "div.holoslider {\n",
       "  min-height: 0 !important;\n",
       "  height: 0.8em;\n",
       "  width: 100%;\n",
       "}\n",
       "\n",
       "div.holoformgroup {\n",
       "  padding-top: 0.5em;\n",
       "  margin-bottom: 0.5em;\n",
       "}\n",
       "\n",
       "div.hologroup {\n",
       "  padding-left: 0;\n",
       "  padding-right: 0.8em;\n",
       "  width: 100%;\n",
       "}\n",
       "\n",
       ".holoselect {\n",
       "  width: 92%;\n",
       "  margin-left: 0;\n",
       "  margin-right: 0;\n",
       "}\n",
       "\n",
       ".holotext {\n",
       "  padding-left:  0.5em;\n",
       "  padding-right: 0;\n",
       "  width: 100%;\n",
       "}\n",
       "\n",
       ".holowidgets .ui-resizable-se {\n",
       "  visibility: hidden\n",
       "}\n",
       "\n",
       ".holoframe > .ui-resizable-se {\n",
       "  visibility: hidden\n",
       "}\n",
       "\n",
       ".holowidgets .ui-resizable-s {\n",
       "  visibility: hidden\n",
       "}\n",
       "\n",
       "\n",
       "/* CSS rules for noUISlider based slider used by JupyterLab extension  */\n",
       "\n",
       ".noUi-handle {\n",
       "  width: 20px !important;\n",
       "  height: 20px !important;\n",
       "  left: -5px !important;\n",
       "  top: -5px !important;\n",
       "}\n",
       "\n",
       ".noUi-handle:before, .noUi-handle:after {\n",
       "  visibility: hidden;\n",
       "  height: 0px;\n",
       "}\n",
       "\n",
       ".noUi-target {\n",
       "  margin-left: 0.5em;\n",
       "  margin-right: 0.5em;\n",
       "}\n",
       "\n",
       "div.bk-hbox {\n",
       "    display: flex;\n",
       "    justify-content: center;\n",
       "}\n",
       "\n",
       "div.bk-hbox div.bk-plot {\n",
       "    padding: 8px;\n",
       "}\n",
       "\n",
       "div.bk-hbox div.bk-data-table {\n",
       "    padding: 20px;\n",
       "}\n",
       "</style>\n",
       "\n"
      ]
     },
     "metadata": {},
     "output_type": "execute_result"
    },
    {
     "data": {},
     "metadata": {},
     "output_type": "display_data"
    }
   ],
   "source": [
    "import numpy as np\n",
    "import h5py as h5\n",
    "import holoviews as hv\n",
    "hv.extension('bokeh')"
   ]
  },
  {
   "cell_type": "code",
   "execution_count": 2,
   "metadata": {},
   "outputs": [],
   "source": [
    "with h5.File('../output/eigensystem_2018_08_02_16_44_26.h5', 'r') as h5file:\n",
    "    eig = np.array(h5file['eigenvectors'])"
   ]
  },
  {
   "cell_type": "code",
   "execution_count": 3,
   "metadata": {},
   "outputs": [],
   "source": [
    "category_ends = [3235, 7183 + 3235, 7183 + 3235 + 4023]\n",
    "\n",
    "\n",
    "def get_layout(dim0, dim1):\n",
    "    _scatter1 = hv.Points(data={'x': eig[dim0, :3235], 'y': eig[dim1, :3235]})\n",
    "    _scatter2 = hv.Points(data={'x': eig[dim0, 3235:7183 + 3235], 'y': eig[dim1, 3235:7183 + 3235]})\n",
    "    _scatter3 = hv.Points(\n",
    "        data={'x': eig[dim0, 7183 + 3235:7183 + 3235 + 4023], 'y': eig[dim1, 7183 + 3235:7183 + 3235 + 4023]})\n",
    "\n",
    "    _layout = _scatter1.options(color=\"black\") * _scatter2.options(color=\"red\") * _scatter3.options(color=\"green\")\n",
    "    _layout += _scatter1.options(color=\"black\") * _scatter3.options(color=\"green\") + _scatter3.options(\n",
    "        color=\"green\") * _scatter1.options(color=\"black\")\n",
    "    #_layout += _scatter1.options(color=\"black\") + _scatter2.options(color=\"red\") + _scatter3.options(color=\"green\")\n",
    "\n",
    "    return _layout\n"
   ]
  },
  {
   "cell_type": "code",
   "execution_count": 9,
   "metadata": {},
   "outputs": [
    {
     "data": {
      "text/html": [
       "<div id='727bcafb-7485-4f70-b1e1-9818c7f9d178' style='display: table; margin: 0 auto;'>\n",
       "\n",
       "\n",
       "\n",
       "\n",
       "\n",
       "  <div class=\"bk-root\" id=\"e3d147b4-5615-4896-b882-63a2f44c8f65\"></div>\n",
       "</div>"
      ],
      "text/plain": [
       ":Layout\n",
       "   .Overlay.I   :Overlay\n",
       "      .Points.I   :Points   [x,y]\n",
       "      .Points.II  :Points   [x,y]\n",
       "      .Points.III :Points   [x,y]\n",
       "   .Overlay.II  :Overlay\n",
       "      .Points.I  :Points   [x,y]\n",
       "      .Points.II :Points   [x,y]\n",
       "   .Overlay.III :Overlay\n",
       "      .Points.I  :Points   [x,y]\n",
       "      .Points.II :Points   [x,y]"
      ]
     },
     "execution_count": 9,
     "metadata": {
      "application/vnd.holoviews_exec.v0+json": {
       "id": "727bcafb-7485-4f70-b1e1-9818c7f9d178"
      }
     },
     "output_type": "execute_result"
    }
   ],
   "source": [
    "%%opts Points [height=400, width=400] (size=1, alpha=0.2 )\n",
    "\n",
    "dim0 = 8\n",
    "dim1 = 9\n",
    "\n",
    "layout = get_layout(dim0=dim0, dim1=dim1)\n",
    "layout   "
   ]
  },
  {
   "cell_type": "code",
   "execution_count": null,
   "metadata": {},
   "outputs": [],
   "source": []
  }
 ],
 "metadata": {
  "kernelspec": {
   "display_name": "Python 3",
   "language": "python",
   "name": "python3"
  },
  "language_info": {
   "codemirror_mode": {
    "name": "ipython",
    "version": 3
   },
   "file_extension": ".py",
   "mimetype": "text/x-python",
   "name": "python",
   "nbconvert_exporter": "python",
   "pygments_lexer": "ipython3",
   "version": "3.6.5"
  }
 },
 "nbformat": 4,
 "nbformat_minor": 2
}
