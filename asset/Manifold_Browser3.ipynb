{
 "cells": [
  {
   "cell_type": "markdown",
   "metadata": {
    "collapsed": true
   },
   "source": [
    "# Initialize"
   ]
  },
  {
   "cell_type": "code",
   "execution_count": 3,
   "metadata": {},
   "outputs": [],
   "source": [
    "import ipyvolume.pylab as p3\n",
    "from matplotlib import cm as cm\n",
    "import h5py as h5\n",
    "import numpy as np\n",
    "\n",
    "# Load data\n",
    "with h5.File('../output/eigensystem_2018_08_09_20_53_30.h5') as h5file:\n",
    "    eig = np.array(h5file['eigenvectors'])\n",
    "dim0 = 3  # Index of the eigenvector for the 1st axis.\n",
    "dim1 = 4  # Index of the eigenvector for the 2nd axis.\n",
    "dim2 = 5  # Index of the eigenvector for the 3rd axis.\n",
    "\n",
    "# Load the value to color the manifold\n",
    "attribute_address = '/reg/d/psdm/amo/amo86615/res/haoyuan/reconstruction/output/radius_all_cat.npy'\n",
    "if attribute_address is None:\n",
    "    # One does not have an attribute to show, then use ones instead.\n",
    "    attribute = np.ones(eig.shape[0])\n",
    "else:\n",
    "    attribute = np.load(attribute_address)\n",
    "\n",
    "# Set color\n",
    "color_mapper = cm.ScalarMappable(cmap='jet')\n",
    "rgb = color_mapper.to_rgba(attribute)[:, :3]\n",
    "\n",
    "# Set up the canvas\n",
    "fig = p3.figure()\n",
    "fig.xlim = [np.min(eig[dim0]), np.max(eig[dim0])]\n",
    "fig.ylim = [np.min(eig[dim1]), np.max(eig[dim1])]\n",
    "fig.zlim = [np.min(eig[dim2]), np.max(eig[dim2])]\n"
   ]
  },
  {
   "cell_type": "markdown",
   "metadata": {},
   "source": [
    "# Show the volume\n"
   ]
  },
  {
   "cell_type": "code",
   "execution_count": null,
   "metadata": {},
   "outputs": [],
   "source": [
    "p3.scatter(eig[dim0], eig[dim1], eig[dim2], size=0.3, color=rgb, marker=\"sphere\")\n",
    "p3.current.container\n"
   ]
  }
 ],
 "metadata": {
  "kernelspec": {
   "display_name": "Python 2",
   "language": "python",
   "name": "python2"
  },
  "language_info": {
   "codemirror_mode": {
    "name": "ipython",
    "version": 2
   },
   "file_extension": ".py",
   "mimetype": "text/x-python",
   "name": "python",
   "nbconvert_exporter": "python",
   "pygments_lexer": "ipython2",
   "version": "2.7.6"
  }
 },
 "nbformat": 4,
 "nbformat_minor": 0
}
