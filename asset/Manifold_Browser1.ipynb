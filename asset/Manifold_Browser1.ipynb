{
 "cells": [
  {
   "cell_type": "code",
   "execution_count": 1,
   "metadata": {},
   "outputs": [
    {
     "data": {
      "text/html": [
       "<style>div.container { width: 90% }</style>"
      ],
      "text/plain": [
       "<IPython.core.display.HTML object>"
      ]
     },
     "metadata": {},
     "output_type": "execute_result"
    },
    {
     "data": {},
     "metadata": {},
     "output_type": "display_data"
    },
    {
     "data": {
      "text/html": [
       "\n",
       "<link rel=\"stylesheet\" href=\"https://code.jquery.com/ui/1.10.4/themes/smoothness/jquery-ui.css\">\n",
       "<style>div.hololayout {\n",
       "  display: flex;\n",
       "  align-items: center;\n",
       "  margin: 0;\n",
       "}\n",
       "\n",
       "div.holoframe {\n",
       "  width: 75%;\n",
       "}\n",
       "\n",
       "div.holowell {\n",
       "  display: flex;\n",
       "  align-items: center;\n",
       "}\n",
       "\n",
       "form.holoform {\n",
       "  background-color: #fafafa;\n",
       "  border-radius: 5px;\n",
       "  overflow: hidden;\n",
       "  padding-left: 0.8em;\n",
       "  padding-right: 0.8em;\n",
       "  padding-top: 0.4em;\n",
       "  padding-bottom: 0.4em;\n",
       "  box-shadow: inset 0 1px 1px rgba(0, 0, 0, 0.05);\n",
       "  margin-bottom: 20px;\n",
       "  border: 1px solid #e3e3e3;\n",
       "}\n",
       "\n",
       "div.holowidgets {\n",
       "  padding-right: 0;\n",
       "  width: 25%;\n",
       "}\n",
       "\n",
       "div.holoslider {\n",
       "  min-height: 0 !important;\n",
       "  height: 0.8em;\n",
       "  width: 100%;\n",
       "}\n",
       "\n",
       "div.holoformgroup {\n",
       "  padding-top: 0.5em;\n",
       "  margin-bottom: 0.5em;\n",
       "}\n",
       "\n",
       "div.hologroup {\n",
       "  padding-left: 0;\n",
       "  padding-right: 0.8em;\n",
       "  width: 100%;\n",
       "}\n",
       "\n",
       ".holoselect {\n",
       "  width: 92%;\n",
       "  margin-left: 0;\n",
       "  margin-right: 0;\n",
       "}\n",
       "\n",
       ".holotext {\n",
       "  padding-left:  0.5em;\n",
       "  padding-right: 0;\n",
       "  width: 100%;\n",
       "}\n",
       "\n",
       ".holowidgets .ui-resizable-se {\n",
       "  visibility: hidden\n",
       "}\n",
       "\n",
       ".holoframe > .ui-resizable-se {\n",
       "  visibility: hidden\n",
       "}\n",
       "\n",
       ".holowidgets .ui-resizable-s {\n",
       "  visibility: hidden\n",
       "}\n",
       "\n",
       "\n",
       "/* CSS rules for noUISlider based slider used by JupyterLab extension  */\n",
       "\n",
       ".noUi-handle {\n",
       "  width: 20px !important;\n",
       "  height: 20px !important;\n",
       "  left: -5px !important;\n",
       "  top: -5px !important;\n",
       "}\n",
       "\n",
       ".noUi-handle:before, .noUi-handle:after {\n",
       "  visibility: hidden;\n",
       "  height: 0px;\n",
       "}\n",
       "\n",
       ".noUi-target {\n",
       "  margin-left: 0.5em;\n",
       "  margin-right: 0.5em;\n",
       "}\n",
       "\n",
       "div.bk-hbox {\n",
       "    display: flex;\n",
       "    justify-content: center;\n",
       "}\n",
       "\n",
       "div.bk-hbox div.bk-plot {\n",
       "    padding: 8px;\n",
       "}\n",
       "\n",
       "div.bk-hbox div.bk-data-table {\n",
       "    padding: 20px;\n",
       "}\n",
       "</style>\n",
       "\n"
      ]
     },
     "metadata": {},
     "output_type": "execute_result"
    },
    {
     "data": {},
     "metadata": {},
     "output_type": "display_data"
    }
   ],
   "source": [
    "import sys\n",
    "sys.path.append(\"/reg/neh/home/haoyuan/Documents/my_repos/DiffusionMap\")\n",
    "\n",
    "from holoviews.operation.datashader import datashade\n",
    "import dask.array\n",
    "import h5py\n",
    "import numpy as np\n",
    "import holoviews as hv\n",
    "from pDiffusionMap import visutil, visabbr\n",
    "\n",
    "hv.extension('bokeh', width=90, logo=False)\n"
   ]
  },
  {
   "cell_type": "markdown",
   "metadata": {},
   "source": [
    "# [USER] Initialize datasource and extract some samples"
   ]
  },
  {
   "cell_type": "code",
   "execution_count": 9,
   "metadata": {},
   "outputs": [],
   "source": [
    "# Raw data file list\n",
    "raw_data_path = '../input/file_list.txt'\n",
    "\n",
    "# Sampling number \n",
    "sample_number = 500\n"
   ]
  },
  {
   "cell_type": "markdown",
   "metadata": {},
   "source": [
    "# [AUTO] Sample the index and dataset"
   ]
  },
  {
   "cell_type": "code",
   "execution_count": 4,
   "metadata": {},
   "outputs": [
    {
     "name": "stdout",
     "output_type": "stream",
     "text": [
      "It takes 53.25032091140747 seconds to sample 2000 patterns.\n"
     ]
    }
   ],
   "source": [
    "(data_source,\n",
    " pattern_shape,\n",
    " global_index_map,\n",
    " sampled_index,\n",
    " sampled_patterns) = visabbr.load_data_and_get_samples(input_txtfile=raw_data_path,\n",
    "                                                       sample_number=sample_number)\n"
   ]
  },
  {
   "cell_type": "markdown",
   "metadata": {},
   "source": [
    "# [USER] Specify visualization parameters"
   ]
  },
  {
   "cell_type": "code",
   "execution_count": 12,
   "metadata": {},
   "outputs": [],
   "source": [
    "#  Load eigenvectors \n",
    "with h5py.File('../output/eigensystem_2018_08_02_16_04_43.h5', 'r') as h5file:\n",
    "    eigenvectors = np.array(h5file['eigenvectors'])\n",
    "\n",
    "# Eigenvectors to show\n",
    "dim0 = 0\n",
    "dim1 = 1\n",
    "\n",
    "# Values range of the images to show\n",
    "value_range = [0, 100]\n",
    "\n",
    "# Number of patterns to show along each axis\n",
    "num = 2\n",
    "\n",
    "# Diffusion Map diemsion along each axis in pixel number\n",
    "length = 600\n",
    "\n",
    "# Dimension of the sampled patterns. Please use this default value\n",
    "sample_size = int(length * 0.9 / num)"
   ]
  },
  {
   "cell_type": "markdown",
   "metadata": {},
   "source": [
    "# [AUTO] Setup Initialization"
   ]
  },
  {
   "cell_type": "code",
   "execution_count": null,
   "metadata": {},
   "outputs": [],
   "source": [
    "(points_all, background,\n",
    " sampled_points, sampled_positions,\n",
    " check, select, path_stream) = visabbr.get_background_sample_and_streams(data_source=data_source,\n",
    "                                                                         eigens=eigenvectors,\n",
    "                                                                         dim0=dim0, dim1=dim1,\n",
    "                                                                         length=length,\n",
    "                                                                         sample_number=sample_number,\n",
    "                                                                         sampled_index=sampled_index)\n",
    "\n",
    "\n",
    "#########################################################\n",
    "# [Auto] Define actions\n",
    "#########################################################\n",
    "def sample_from_selected_region(index):\n",
    "    \"\"\"\n",
    "    This is the action when the user select a rectangular region to inspect.\n",
    "    :param index: \n",
    "    :return: \n",
    "    \"\"\"\n",
    "    return visutil.assemble_patterns(col_num=num,\n",
    "                                     row_num=num,\n",
    "                                     index=index,\n",
    "                                     data_holder=sampled_patterns,\n",
    "                                     data_shape=pattern_shape,\n",
    "                                     value_range=value_range,\n",
    "                                     height=sample_size,\n",
    "                                     width=sample_size)\n",
    "\n",
    "\n",
    "# Handle for box selection\n",
    "handle_check = hv.DynamicMap(sample_from_selected_region, streams=[check])\n"
   ]
  },
  {
   "cell_type": "markdown",
   "metadata": {},
   "source": [
    "# [AUTO] Visualization"
   ]
  },
  {
   "cell_type": "code",
   "execution_count": 14,
   "metadata": {},
   "outputs": [
    {
     "data": {
      "text/html": [
       "<div id='50b55e07-ad02-4bb8-b396-6417238556d7' style='display: table; margin: 0 auto;'>\n",
       "    <div id=\"fig_50b55e07-ad02-4bb8-b396-6417238556d7\">\n",
       "      \n",
       "\n",
       "\n",
       "\n",
       "\n",
       "\n",
       "  <div class=\"bk-root\" id=\"bb00f666-221f-4bd5-b33a-1929adafbd83\"></div>\n",
       "\n",
       "    </div>\n",
       "    </div>"
      ],
      "text/plain": [
       ":Layout\n",
       "   .DynamicMap.I :DynamicMap   []\n",
       "      :Overlay\n",
       "         .RGB.I      :RGB   [x,y]   (R,G,B,A)\n",
       "         .Points.I   :Points   [x,y]\n",
       "         .Polygons.I :Polygons   [x,y]\n",
       "   .GridSpace.I  :GridSpace   [X,Y]\n",
       "      :DynamicMap   []\n",
       "         :Image   [x,y]   (z)"
      ]
     },
     "execution_count": 14,
     "metadata": {
      "application/vnd.holoviews_exec.v0+json": {
       "id": "50b55e07-ad02-4bb8-b396-6417238556d7"
      }
     },
     "output_type": "execute_result"
    }
   ],
   "source": [
    "# Create the final diagram\n",
    "layout = (background * sampled_points * select + handle_check.collate()).options(shared_axes=False)\n",
    "layout\n"
   ]
  },
  {
   "cell_type": "markdown",
   "metadata": {},
   "source": [
    "# [USER] Save selected polygon"
   ]
  },
  {
   "cell_type": "code",
   "execution_count": 13,
   "metadata": {},
   "outputs": [],
   "source": [
    "output_address = '../output/browser_1_selected_region.npy'\n",
    "\n",
    "index, points = visutil.save_selected_region(stream_holder=path_stream,\n",
    "                                             data_holder=data_all_coor,\n",
    "                                             output=output_address,\n",
    "                                             return_selected_region=True)\n"
   ]
  },
  {
   "cell_type": "code",
   "execution_count": 15,
   "metadata": {},
   "outputs": [
    {
     "data": {
      "text/html": [
       "<div id='2c8ea941-79f3-48f3-ae3a-6bbf090a40a3' style='display: table; margin: 0 auto;'>\n",
       "    <div id=\"fig_2c8ea941-79f3-48f3-ae3a-6bbf090a40a3\">\n",
       "      \n",
       "\n",
       "\n",
       "\n",
       "\n",
       "\n",
       "  <div class=\"bk-root\" id=\"c685f9bc-f5b1-4a5b-b1bd-0d31cfad145b\"></div>\n",
       "\n",
       "    </div>\n",
       "    </div>"
      ],
      "text/plain": [
       ":DynamicMap   []\n",
       "   :RGB   [x,y]   (R,G,B,A)"
      ]
     },
     "execution_count": 15,
     "metadata": {
      "application/vnd.holoviews_exec.v0+json": {
       "id": "2c8ea941-79f3-48f3-ae3a-6bbf090a40a3"
      }
     },
     "output_type": "execute_result"
    }
   ],
   "source": [
    "# Datashade the selected region\n",
    "datashade(hv.Points(points), dynamic=True)\n"
   ]
  },
  {
   "cell_type": "code",
   "execution_count": null,
   "metadata": {},
   "outputs": [],
   "source": []
  }
 ],
 "metadata": {
  "kernelspec": {
   "display_name": "Python 3",
   "language": "python",
   "name": "python3"
  },
  "language_info": {
   "codemirror_mode": {
    "name": "ipython",
    "version": 3
   },
   "file_extension": ".py",
   "mimetype": "text/x-python",
   "name": "python",
   "nbconvert_exporter": "python",
   "pygments_lexer": "ipython3",
   "version": "3.6.5"
  }
 },
 "nbformat": 4,
 "nbformat_minor": 2
}
